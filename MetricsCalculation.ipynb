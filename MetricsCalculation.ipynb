{
  "nbformat": 4,
  "nbformat_minor": 0,
  "metadata": {
    "colab": {
      "name": "ExperimentoJNOSE.ipynb",
      "provenance": [],
      "collapsed_sections": [],
      "include_colab_link": true
    },
    "kernelspec": {
      "name": "python3",
      "display_name": "Python 3"
    }
  },
  "cells": [
    {
      "cell_type": "markdown",
      "metadata": {
        "id": "view-in-github",
        "colab_type": "text"
      },
      "source": [
        "<a href=\"https://colab.research.google.com/github/luana-martins/JNose-Validation/blob/main/CodeToolsValidation.ipynb\" target=\"_parent\"><img src=\"https://colab.research.google.com/assets/colab-badge.svg\" alt=\"Open In Colab\"/></a>"
      ]
    },
    {
      "cell_type": "markdown",
      "metadata": {
        "id": "HLYpSlFHudtc"
      },
      "source": [
        "# 1. Configuration\n",
        "This section imports the libraries necessary to execute the code.\n",
        "\n"
      ]
    },
    {
      "cell_type": "code",
      "metadata": {
        "id": "PnLSFtQglZxP"
      },
      "source": [
        "# Libraries import\n",
        "\n",
        "import pandas as pd\n",
        "import numpy as np\n",
        "from sklearn.metrics import accuracy_score\n",
        "from sklearn.metrics import confusion_matrix\n",
        "from sklearn.metrics import precision_recall_fscore_support"
      ],
      "execution_count": 5,
      "outputs": []
    },
    {
      "cell_type": "markdown",
      "metadata": {
        "id": "SliJMFGssnFu"
      },
      "source": [
        "# 2. Confusion Matrix - Class Level\n",
        "This section compares the JNose Test and tsDetect results with the manual analysis in the class level.\n"
      ]
    },
    {
      "cell_type": "code",
      "metadata": {
        "id": "gt3oKGm1y-7g"
      },
      "source": [
        "# JNOSE vs. manual analysis - class level\n",
        "\n",
        "dataset = pd.read_csv('https://raw.githubusercontent.com/luana-martins/JNose-Validation/main/Dataset-Class.csv');\n",
        "\n",
        "for i in dataset:\n",
        "  for j in dataset:\n",
        "    colunm1 = i.split('-')\n",
        "    colunm2 = j.split('-')\n",
        "    if colunm1[0] == 'Manual' and colunm2[0] == 'JNose' and colunm2[1] == colunm1[1]:\n",
        "      esperado = dataset[colunm1[0]+\"-\"+colunm1[1]]  \n",
        "      detectado = dataset[colunm2[0]+\"-\"+colunm2[1]]\n",
        "      acuracia = (accuracy_score(esperado, detectado) * 100)\n",
        "      print(\"A acurácia do \" + colunm1[1] + \" foi %.2f%%\" % acuracia)\n",
        "      print( classification_report(esperado, detectado))\n",
        "    \n",
        "      # Matriz de confusão\n",
        "      confusion_matrix(esperado, detectado)\n",
        "  "
      ],
      "execution_count": null,
      "outputs": []
    },
    {
      "cell_type": "code",
      "metadata": {
        "id": "VPIQoqqklZ5x"
      },
      "source": [
        "# TsDetect vs. manual analysis - Class level \n",
        "\n",
        "dataset = pd.read_csv('https://raw.githubusercontent.com/luana-martins/JNose-Validation/main/Dataset-Class.csv');\n",
        "for i in dataset:\n",
        "  for j in dataset:\n",
        "    colunm1 = i.split('-')\n",
        "    colunm2 = j.split('-')\n",
        "    if colunm1[0] == 'Manual' and colunm2[0] == 'tsDetect' and colunm2[1] == colunm1[1]:\n",
        "      esperado = dataset[colunm1[0]+\"-\"+colunm1[1]]  \n",
        "      detectado = dataset[colunm2[0]+\"-\"+colunm2[1]]\n",
        "      acuracia = (accuracy_score(esperado, detectado) * 100)\n",
        "      \n",
        "      print(\"A acurácia do \" + colunm1[1] + \" foi %.2f%%\" % acuracia)\n",
        "      print( classification_report(esperado, detectado))\n",
        "    \n",
        "      # Matriz de confusão\n",
        "      confusion_matrix(esperado, detectado)\n",
        "  "
      ],
      "execution_count": null,
      "outputs": []
    },
    {
      "cell_type": "markdown",
      "metadata": {
        "id": "pxgbPPk2yxTn"
      },
      "source": [
        "# 3. Confusion Matrix - Line, Block, Method or Class level\n",
        "This section compares the JNose Test results with the manual analysis in a fine granularity level.\n"
      ]
    },
    {
      "cell_type": "code",
      "metadata": {
        "id": "dOyFpLr89DjW"
      },
      "source": [
        "# JNose vs. manual analysis\n",
        "\n",
        "testSmells = ['AR', 'CI', 'CTL', 'DA', 'ECT', 'ET', 'EmT', 'GF','LT','MG', 'MNT', 'PS', 'RA','RO','SE','ST','UT','VT']\n",
        "\n",
        "for instance in testSmells:\n",
        "  dataset = pd.read_csv('https://raw.githubusercontent.com/luana-martins/JNose-Validation/main/dataset-lines/'+instance+'.csv');\n",
        "  dataset.head()\n",
        "  esperado = dataset['Manual-'+instance]  \n",
        "  detectado = dataset['JNose-'+instance]\n",
        "  acuracia = (accuracy_score(esperado, detectado) * 100)\n",
        "  \n",
        "  print(\"A acurácia do \" + instance + \" foi %.2f%%\" % acuracia)\n",
        "  print( classification_report(esperado, detectado))\n",
        "  confusion_matrix(esperado, detectado)\n",
        "\n"
      ],
      "execution_count": null,
      "outputs": []
    }
  ]
}
